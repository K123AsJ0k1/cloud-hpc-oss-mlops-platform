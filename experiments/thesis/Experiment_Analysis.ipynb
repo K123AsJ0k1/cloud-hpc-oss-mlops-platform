{
 "cells": [
  {
   "cell_type": "code",
   "execution_count": 1,
   "id": "58369271-6a64-40b4-84dd-8d67fc94eb52",
   "metadata": {},
   "outputs": [],
   "source": [
    "import json \n",
    "import os"
   ]
  },
  {
   "cell_type": "code",
   "execution_count": 2,
   "id": "16ebcc91-b07f-4ed1-a0c7-edc67a052c3c",
   "metadata": {},
   "outputs": [],
   "source": [
    "import nbformat\n",
    "\n",
    "def get_cell_rows(\n",
    "    notebook_path: str\n",
    "): \n",
    "    with open(notebook_path, 'r') as f:\n",
    "        nb = nbformat.read(f, as_version=4)\n",
    "\n",
    "    cell_row_counts = {}\n",
    "    row_sum = 0\n",
    "    for i, cell in enumerate(nb.cells):\n",
    "        if cell.cell_type == 'code':\n",
    "            row_count = len(cell.source.split('\\n'))\n",
    "        elif cell.cell_type == 'markdown':\n",
    "            row_count = len(cell.source.split('\\n'))\n",
    "        cell_row_counts[i+1] = row_count\n",
    "        row_sum += row_count\n",
    "\n",
    "    return cell_row_counts, row_sum"
   ]
  },
  {
   "cell_type": "code",
   "execution_count": 8,
   "id": "505d92b2-321d-460a-8746-b84c258bbaf8",
   "metadata": {},
   "outputs": [],
   "source": [
    "cell_rows, row_sum = get_cell_rows(\n",
    "    notebook_path = 'Integration-Porter-Demonstration.ipynb'\n",
    ")"
   ]
  },
  {
   "cell_type": "code",
   "execution_count": 3,
   "id": "8f2966fa-0866-4984-ae30-312cec0ef502",
   "metadata": {},
   "outputs": [],
   "source": [
    "local_cell_rows, local_row_sum = get_cell_rows(\n",
    "    notebook_path = 'manual/local/workflow/Local-FMNIST-Experiment.ipynb'\n",
    ")"
   ]
  },
  {
   "cell_type": "code",
   "execution_count": 4,
   "id": "a294f6b1-a927-4a0b-9f5e-d1947f9ee0e8",
   "metadata": {},
   "outputs": [
    {
     "name": "stdout",
     "output_type": "stream",
     "text": [
      "30 410\n"
     ]
    }
   ],
   "source": [
    "print(len(local_cell_rows), local_row_sum) "
   ]
  },
  {
   "cell_type": "code",
   "execution_count": 5,
   "id": "a8410332-9222-4628-be1e-fe61a6589948",
   "metadata": {},
   "outputs": [],
   "source": [
    "mahti_cell_rows, mahti_row_sum = get_cell_rows(\n",
    "    notebook_path = 'manual/mahti/workflow/Mahti-FMNIST-Experiment.ipynb'\n",
    ")"
   ]
  },
  {
   "cell_type": "code",
   "execution_count": 6,
   "id": "1e5c676e-d018-4c9c-b8e7-db8ea13a3abc",
   "metadata": {},
   "outputs": [
    {
     "name": "stdout",
     "output_type": "stream",
     "text": [
      "70 1755\n"
     ]
    }
   ],
   "source": [
    "print(len(mahti_cell_rows), mahti_row_sum)"
   ]
  },
  {
   "cell_type": "code",
   "execution_count": 7,
   "id": "610b6d0c-37a2-496e-84f4-27cbc9a0a4e9",
   "metadata": {},
   "outputs": [],
   "source": [
    "ray_cell_rows, ray_row_sum = get_cell_rows(\n",
    "    notebook_path = 'integraded/ray/workflow/Ray-FMNIST-Experiment.ipynb'\n",
    ")"
   ]
  },
  {
   "cell_type": "code",
   "execution_count": 8,
   "id": "c19b9835-5bed-4cef-b789-bb4a94dd1c90",
   "metadata": {},
   "outputs": [
    {
     "name": "stdout",
     "output_type": "stream",
     "text": [
      "82 2485\n"
     ]
    }
   ],
   "source": [
    "print(len(ray_cell_rows),ray_row_sum)"
   ]
  },
  {
   "cell_type": "code",
   "execution_count": 9,
   "id": "2c339a13-1b6a-4c7a-bf99-c36a921d116c",
   "metadata": {},
   "outputs": [],
   "source": [
    "kubeflow_cell_rows, kubeflow_row_sum = get_cell_rows(\n",
    "    notebook_path = 'integraded/kubeflow/workflow/Kubeflow-FMNIST-Experiment.ipynb'\n",
    ")"
   ]
  },
  {
   "cell_type": "code",
   "execution_count": 10,
   "id": "017718df-5d5a-4338-98fb-12b099905d4b",
   "metadata": {},
   "outputs": [
    {
     "name": "stdout",
     "output_type": "stream",
     "text": [
      "103 4661\n"
     ]
    }
   ],
   "source": [
    "print(len(kubeflow_cell_rows), kubeflow_row_sum)"
   ]
  },
  {
   "cell_type": "code",
   "execution_count": 11,
   "id": "28156d71-28f0-4382-a3d5-0c55ded0abe1",
   "metadata": {},
   "outputs": [
    {
     "data": {
      "text/plain": [
       "{1: 17,\n",
       " 2: 2,\n",
       " 3: 1,\n",
       " 4: 33,\n",
       " 5: 1,\n",
       " 6: 32,\n",
       " 7: 11,\n",
       " 8: 11,\n",
       " 9: 1,\n",
       " 10: 23,\n",
       " 11: 6,\n",
       " 12: 6,\n",
       " 13: 14,\n",
       " 14: 1,\n",
       " 15: 191,\n",
       " 16: 3,\n",
       " 17: 1,\n",
       " 18: 12,\n",
       " 19: 9,\n",
       " 20: 1,\n",
       " 21: 3,\n",
       " 22: 1,\n",
       " 23: 3,\n",
       " 24: 1,\n",
       " 25: 2,\n",
       " 26: 4,\n",
       " 27: 14,\n",
       " 28: 4,\n",
       " 29: 1,\n",
       " 30: 1}"
      ]
     },
     "execution_count": 11,
     "metadata": {},
     "output_type": "execute_result"
    }
   ],
   "source": [
    "local_cell_rows"
   ]
  },
  {
   "cell_type": "code",
   "execution_count": 12,
   "id": "f1b6a1b0-1453-4f4c-8346-78db93591a62",
   "metadata": {},
   "outputs": [
    {
     "data": {
      "text/plain": [
       "{1: 27,\n",
       " 2: 1,\n",
       " 3: 34,\n",
       " 4: 32,\n",
       " 5: 11,\n",
       " 6: 11,\n",
       " 7: 1,\n",
       " 8: 23,\n",
       " 9: 6,\n",
       " 10: 6,\n",
       " 11: 14,\n",
       " 12: 1,\n",
       " 13: 11,\n",
       " 14: 11,\n",
       " 15: 1,\n",
       " 16: 26,\n",
       " 17: 1,\n",
       " 18: 14,\n",
       " 19: 15,\n",
       " 20: 1,\n",
       " 21: 197,\n",
       " 22: 8,\n",
       " 23: 7,\n",
       " 24: 1,\n",
       " 25: 9,\n",
       " 26: 1,\n",
       " 27: 1,\n",
       " 28: 465,\n",
       " 29: 1,\n",
       " 30: 1,\n",
       " 31: 12,\n",
       " 32: 1,\n",
       " 33: 1,\n",
       " 34: 20,\n",
       " 35: 5,\n",
       " 36: 1,\n",
       " 37: 3,\n",
       " 38: 5,\n",
       " 39: 1,\n",
       " 40: 1,\n",
       " 41: 5,\n",
       " 42: 2,\n",
       " 43: 1,\n",
       " 44: 34,\n",
       " 45: 3,\n",
       " 46: 12,\n",
       " 47: 54,\n",
       " 48: 5,\n",
       " 49: 478,\n",
       " 50: 28,\n",
       " 51: 3,\n",
       " 52: 44,\n",
       " 53: 5,\n",
       " 54: 19,\n",
       " 55: 5,\n",
       " 56: 20,\n",
       " 57: 3,\n",
       " 58: 5,\n",
       " 59: 1,\n",
       " 60: 2,\n",
       " 61: 5,\n",
       " 62: 1,\n",
       " 63: 1,\n",
       " 64: 5,\n",
       " 65: 2,\n",
       " 66: 4,\n",
       " 67: 14,\n",
       " 68: 4,\n",
       " 69: 1,\n",
       " 70: 1}"
      ]
     },
     "execution_count": 12,
     "metadata": {},
     "output_type": "execute_result"
    }
   ],
   "source": [
    "mahti_cell_rows"
   ]
  },
  {
   "cell_type": "code",
   "execution_count": 13,
   "id": "fa2cece4-594e-48fd-8f60-19f415123d93",
   "metadata": {},
   "outputs": [
    {
     "data": {
      "text/plain": [
       "{1: 32,\n",
       " 2: 1,\n",
       " 3: 34,\n",
       " 4: 32,\n",
       " 5: 11,\n",
       " 6: 11,\n",
       " 7: 1,\n",
       " 8: 23,\n",
       " 9: 6,\n",
       " 10: 6,\n",
       " 11: 14,\n",
       " 12: 1,\n",
       " 13: 11,\n",
       " 14: 11,\n",
       " 15: 1,\n",
       " 16: 25,\n",
       " 17: 1,\n",
       " 18: 14,\n",
       " 19: 16,\n",
       " 20: 1,\n",
       " 21: 197,\n",
       " 22: 8,\n",
       " 23: 7,\n",
       " 24: 1,\n",
       " 25: 1,\n",
       " 26: 149,\n",
       " 27: 1,\n",
       " 28: 1,\n",
       " 29: 77,\n",
       " 30: 7,\n",
       " 31: 1,\n",
       " 32: 76,\n",
       " 33: 1,\n",
       " 34: 309,\n",
       " 35: 1,\n",
       " 36: 159,\n",
       " 37: 1,\n",
       " 38: 104,\n",
       " 39: 1,\n",
       " 40: 1,\n",
       " 41: 575,\n",
       " 42: 7,\n",
       " 43: 1,\n",
       " 44: 13,\n",
       " 45: 1,\n",
       " 46: 10,\n",
       " 47: 37,\n",
       " 48: 16,\n",
       " 49: 5,\n",
       " 50: 6,\n",
       " 51: 1,\n",
       " 52: 66,\n",
       " 53: 1,\n",
       " 54: 103,\n",
       " 55: 10,\n",
       " 56: 2,\n",
       " 57: 2,\n",
       " 58: 3,\n",
       " 59: 105,\n",
       " 60: 10,\n",
       " 61: 1,\n",
       " 62: 2,\n",
       " 63: 2,\n",
       " 64: 1,\n",
       " 65: 2,\n",
       " 66: 5,\n",
       " 67: 1,\n",
       " 68: 5,\n",
       " 69: 5,\n",
       " 70: 4,\n",
       " 71: 36,\n",
       " 72: 4,\n",
       " 73: 1,\n",
       " 74: 1,\n",
       " 75: 34,\n",
       " 76: 6,\n",
       " 77: 1,\n",
       " 78: 2,\n",
       " 79: 35,\n",
       " 80: 5,\n",
       " 81: 1,\n",
       " 82: 2}"
      ]
     },
     "execution_count": 13,
     "metadata": {},
     "output_type": "execute_result"
    }
   ],
   "source": [
    "ray_cell_rows"
   ]
  },
  {
   "cell_type": "code",
   "execution_count": 14,
   "id": "63f21ed7-7ef4-4c82-98c5-d0b4cb8a3613",
   "metadata": {},
   "outputs": [
    {
     "data": {
      "text/plain": [
       "{1: 33,\n",
       " 2: 1,\n",
       " 3: 34,\n",
       " 4: 32,\n",
       " 5: 11,\n",
       " 6: 11,\n",
       " 7: 1,\n",
       " 8: 15,\n",
       " 9: 3,\n",
       " 10: 402,\n",
       " 11: 1,\n",
       " 12: 1261,\n",
       " 13: 1,\n",
       " 14: 322,\n",
       " 15: 1,\n",
       " 16: 331,\n",
       " 17: 1,\n",
       " 18: 44,\n",
       " 19: 1,\n",
       " 20: 11,\n",
       " 21: 12,\n",
       " 22: 27,\n",
       " 23: 1,\n",
       " 24: 14,\n",
       " 25: 15,\n",
       " 26: 1,\n",
       " 27: 197,\n",
       " 28: 1,\n",
       " 29: 149,\n",
       " 30: 1,\n",
       " 31: 1,\n",
       " 32: 77,\n",
       " 33: 7,\n",
       " 34: 1,\n",
       " 35: 574,\n",
       " 36: 7,\n",
       " 37: 25,\n",
       " 38: 1,\n",
       " 39: 74,\n",
       " 40: 1,\n",
       " 41: 32,\n",
       " 42: 1,\n",
       " 43: 100,\n",
       " 44: 3,\n",
       " 45: 7,\n",
       " 46: 1,\n",
       " 47: 10,\n",
       " 48: 16,\n",
       " 49: 40,\n",
       " 50: 7,\n",
       " 51: 5,\n",
       " 52: 7,\n",
       " 53: 1,\n",
       " 54: 111,\n",
       " 55: 7,\n",
       " 56: 9,\n",
       " 57: 4,\n",
       " 58: 1,\n",
       " 59: 85,\n",
       " 60: 1,\n",
       " 61: 1,\n",
       " 62: 6,\n",
       " 63: 1,\n",
       " 64: 6,\n",
       " 65: 1,\n",
       " 66: 4,\n",
       " 67: 1,\n",
       " 68: 4,\n",
       " 69: 1,\n",
       " 70: 163,\n",
       " 71: 6,\n",
       " 72: 2,\n",
       " 73: 2,\n",
       " 74: 3,\n",
       " 75: 104,\n",
       " 76: 6,\n",
       " 77: 1,\n",
       " 78: 2,\n",
       " 79: 2,\n",
       " 80: 1,\n",
       " 81: 2,\n",
       " 82: 5,\n",
       " 83: 1,\n",
       " 84: 5,\n",
       " 85: 5,\n",
       " 86: 8,\n",
       " 87: 4,\n",
       " 88: 36,\n",
       " 89: 4,\n",
       " 90: 1,\n",
       " 91: 1,\n",
       " 92: 35,\n",
       " 93: 6,\n",
       " 94: 1,\n",
       " 95: 2,\n",
       " 96: 33,\n",
       " 97: 5,\n",
       " 98: 1,\n",
       " 99: 2,\n",
       " 100: 29,\n",
       " 101: 4,\n",
       " 102: 1,\n",
       " 103: 2}"
      ]
     },
     "execution_count": 14,
     "metadata": {},
     "output_type": "execute_result"
    }
   ],
   "source": [
    "kubeflow_cell_rows"
   ]
  },
  {
   "cell_type": "code",
   "execution_count": null,
   "id": "9c1f3488-0bda-4e03-a80b-60f54ef570f5",
   "metadata": {},
   "outputs": [],
   "source": []
  }
 ],
 "metadata": {
  "kernelspec": {
   "display_name": "Python 3 (ipykernel)",
   "language": "python",
   "name": "python3"
  },
  "language_info": {
   "codemirror_mode": {
    "name": "ipython",
    "version": 3
   },
   "file_extension": ".py",
   "mimetype": "text/x-python",
   "name": "python",
   "nbconvert_exporter": "python",
   "pygments_lexer": "ipython3",
   "version": "3.10.12"
  }
 },
 "nbformat": 4,
 "nbformat_minor": 5
}
