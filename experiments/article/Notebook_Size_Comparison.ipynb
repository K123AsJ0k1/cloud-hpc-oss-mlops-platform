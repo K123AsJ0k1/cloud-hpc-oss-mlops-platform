{
 "cells": [
  {
   "cell_type": "code",
   "execution_count": 1,
   "id": "47d866c6-b189-41c0-9e15-8c44c73f6e30",
   "metadata": {},
   "outputs": [],
   "source": [
    "import json \n",
    "import os\n",
    "import nbformat"
   ]
  },
  {
   "cell_type": "code",
   "execution_count": 3,
   "id": "cfe2c1d8-2d85-4d68-b3f0-05cf54f9d6f9",
   "metadata": {},
   "outputs": [],
   "source": [
    "def get_code_amount(\n",
    "    notebook_path: str\n",
    "): \n",
    "    with open(notebook_path, 'r') as f:\n",
    "        nb = nbformat.read(f, as_version=4)\n",
    "\n",
    "    cell_row_counts = {}\n",
    "    code_lines = 0\n",
    "    for cell in nb.cells:\n",
    "        if cell.cell_type == 'code':\n",
    "            code_lines += len(cell.source.splitlines())\n",
    "    return code_lines"
   ]
  },
  {
   "cell_type": "code",
   "execution_count": 22,
   "id": "83b989d5-601a-442e-a59f-f63023479545",
   "metadata": {},
   "outputs": [
    {
     "name": "stdout",
     "output_type": "stream",
     "text": [
      "375\n"
     ]
    }
   ],
   "source": [
    "local_code_amount = get_code_amount(\n",
    "    notebook_path = 'local/Local-FMNIST-Experiment.ipynb'\n",
    ")\n",
    "print(local_code_amount)"
   ]
  },
  {
   "cell_type": "code",
   "execution_count": 24,
   "id": "958b9190-b73b-4758-9444-dbc29c458275",
   "metadata": {},
   "outputs": [
    {
     "name": "stdout",
     "output_type": "stream",
     "text": [
      "3232\n"
     ]
    }
   ],
   "source": [
    "cloud_code_amount = get_code_amount(\n",
    "    notebook_path = 'cloud/Cloud-FMNIST-Experiment.ipynb'\n",
    ")\n",
    "print(cloud_code_amount)"
   ]
  },
  {
   "cell_type": "code",
   "execution_count": 4,
   "id": "46a2cc43-7210-4bc6-b6b7-cc7e40f6a27e",
   "metadata": {},
   "outputs": [
    {
     "name": "stdout",
     "output_type": "stream",
     "text": [
      "6731\n"
     ]
    }
   ],
   "source": [
    "cloud_hpc_code_amount = get_code_amount(\n",
    "    notebook_path = 'cloud-hpc/Cloud-HPC-FMNIST-Experiment.ipynb'\n",
    ")\n",
    "print(cloud_hpc_code_amount)"
   ]
  },
  {
   "cell_type": "code",
   "execution_count": null,
   "id": "f0263bb0-20f4-42f2-ba13-bf2501639832",
   "metadata": {},
   "outputs": [],
   "source": []
  }
 ],
 "metadata": {
  "kernelspec": {
   "display_name": "Python 3 (ipykernel)",
   "language": "python",
   "name": "python3"
  },
  "language_info": {
   "codemirror_mode": {
    "name": "ipython",
    "version": 3
   },
   "file_extension": ".py",
   "mimetype": "text/x-python",
   "name": "python",
   "nbconvert_exporter": "python",
   "pygments_lexer": "ipython3",
   "version": "3.10.12"
  }
 },
 "nbformat": 4,
 "nbformat_minor": 5
}
