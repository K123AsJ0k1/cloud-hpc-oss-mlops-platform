{
 "cells": [
  {
   "cell_type": "markdown",
   "id": "5dc3d1e5-485b-43f5-b6ff-6872d2a8698e",
   "metadata": {},
   "source": [
    "# Notebook Size Comparison"
   ]
  },
  {
   "cell_type": "code",
   "execution_count": 1,
   "id": "d35de31c-a716-4a6c-a89a-bd487fb7eec7",
   "metadata": {},
   "outputs": [],
   "source": [
    "import json \n",
    "import os\n",
    "import nbformat"
   ]
  },
  {
   "cell_type": "markdown",
   "id": "519a833f-6af7-4a06-be54-a9344544438e",
   "metadata": {},
   "source": [
    "The used lines of code is the sum of rows each code block uses."
   ]
  },
  {
   "cell_type": "code",
   "execution_count": 2,
   "id": "cfe2c1d8-2d85-4d68-b3f0-05cf54f9d6f9",
   "metadata": {},
   "outputs": [],
   "source": [
    "def get_code_amount(\n",
    "    notebook_path: str\n",
    "): \n",
    "    with open(notebook_path, 'r') as f:\n",
    "        nb = nbformat.read(f, as_version=4)\n",
    "\n",
    "    cell_row_counts = {}\n",
    "    code_lines = 0\n",
    "    for cell in nb.cells:\n",
    "        if cell.cell_type == 'code':\n",
    "            code_lines += len(cell.source.splitlines())\n",
    "    return code_lines"
   ]
  },
  {
   "cell_type": "code",
   "execution_count": 3,
   "id": "83b989d5-601a-442e-a59f-f63023479545",
   "metadata": {},
   "outputs": [
    {
     "name": "stdout",
     "output_type": "stream",
     "text": [
      "363\n"
     ]
    }
   ],
   "source": [
    "local_code_amount = get_code_amount(\n",
    "    notebook_path = 'local/Local-FMNIST-Experiment.ipynb'\n",
    ")\n",
    "print(local_code_amount)"
   ]
  },
  {
   "cell_type": "code",
   "execution_count": 4,
   "id": "958b9190-b73b-4758-9444-dbc29c458275",
   "metadata": {},
   "outputs": [
    {
     "name": "stdout",
     "output_type": "stream",
     "text": [
      "3181\n"
     ]
    }
   ],
   "source": [
    "cloud_code_amount = get_code_amount(\n",
    "    notebook_path = 'cloud/Cloud-FMNIST-Experiment.ipynb'\n",
    ")\n",
    "print(cloud_code_amount)"
   ]
  },
  {
   "cell_type": "code",
   "execution_count": 5,
   "id": "46a2cc43-7210-4bc6-b6b7-cc7e40f6a27e",
   "metadata": {},
   "outputs": [
    {
     "name": "stdout",
     "output_type": "stream",
     "text": [
      "6642\n"
     ]
    }
   ],
   "source": [
    "cloud_hpc_code_amount = get_code_amount(\n",
    "    notebook_path = 'cloud-hpc/Cloud-HPC-FMNIST-Experiment.ipynb'\n",
    ")\n",
    "print(cloud_hpc_code_amount)"
   ]
  }
 ],
 "metadata": {
  "kernelspec": {
   "display_name": "Python 3 (ipykernel)",
   "language": "python",
   "name": "python3"
  },
  "language_info": {
   "codemirror_mode": {
    "name": "ipython",
    "version": 3
   },
   "file_extension": ".py",
   "mimetype": "text/x-python",
   "name": "python",
   "nbconvert_exporter": "python",
   "pygments_lexer": "ipython3",
   "version": "3.10.12"
  }
 },
 "nbformat": 4,
 "nbformat_minor": 5
}
