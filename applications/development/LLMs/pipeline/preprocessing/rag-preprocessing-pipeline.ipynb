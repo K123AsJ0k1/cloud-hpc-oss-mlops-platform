{
 "cells": [
  {
   "cell_type": "markdown",
   "id": "58c60297-972e-4dab-bc4c-7852198fbd18",
   "metadata": {},
   "source": [
    "# Demonstration RAG Pipeline"
   ]
  },
  {
   "cell_type": "markdown",
   "id": "813441dc-4813-42d0-88b6-87384f5dae35",
   "metadata": {},
   "source": [
    "```\n",
    "helm install raycluster kuberay/ray-cluster --version 1.0.0 -f ray-values.yaml\n",
    "\n",
    "ssh -L 7200:localhost:7200 GPU-cpouta\n",
    "kubectl port-forward svc/express-service 7200:7200 -n llm-pro\n",
    "\n",
    "ssh -L 7201:localhost:7201 GPU-cpouta\n",
    "kubectl port-forward svc/qdrant-service 7201:7201 -n llm-pro\n",
    "\n",
    "ssh -L 7202:localhost:7202 GPU-cpouta\n",
    "kubectl port-forward svc/meili-service 7202:7202 -n llm-pro\n",
    "\n",
    "ssh -L 8265:localhost:8265 GPU-cpouta\n",
    "kubectl port-forward svc/raycluster-kuberay-head-svc 8265:8265\n",
    "\n",
    "ssh -L 7101:localhost:7101 GPU-cpouta\n",
    "kubectl port-forward svc/webui-service 7101:7101 -n llm-inf\n",
    "\n",
    "ssh -L 9001:localhost:9001 GPU-cpouta\n",
    "kubectl port-forward svc/mlflow-minio-service 9001:9001 -n mlflow\n",
    "```"
   ]
  },
  {
   "cell_type": "markdown",
   "id": "a3f622dd-ef42-4481-adac-b6480ba755fd",
   "metadata": {},
   "source": [
    "## Ray"
   ]
  },
  {
   "cell_type": "code",
   "execution_count": 3,
   "id": "1b87834b-cf15-4513-9564-20230eda6964",
   "metadata": {},
   "outputs": [
    {
     "name": "stderr",
     "output_type": "stream",
     "text": [
      "/home/sfniila/Project/cloud-hpc-oss-mlops-platform/applications/development/LLMs/pipeline/llm_venv/lib/python3.10/site-packages/tqdm/auto.py:21: TqdmWarning: IProgress not found. Please update jupyter and ipywidgets. See https://ipywidgets.readthedocs.io/en/stable/user_install.html\n",
      "  from .autonotebook import tqdm as notebook_tqdm\n",
      "2024-11-20 14:54:18,329\tINFO util.py:154 -- Missing packages: ['ipywidgets']. Run `pip install -U ipywidgets`, then restart the notebook server for rich notebook output.\n"
     ]
    }
   ],
   "source": [
    "from ray.job_submission import JobSubmissionClient\n",
    "from ray.job_submission import JobStatus\n",
    "import time as t\n",
    "import json\n",
    "import requests\n",
    "\n",
    "def test_url(\n",
    "    target_url: str,\n",
    "    timeout: int\n",
    ") -> bool:\n",
    "    try:\n",
    "        response = requests.head(\n",
    "            url = target_url, \n",
    "            timeout = timeout\n",
    "        )\n",
    "        if response.status_code == 200:\n",
    "            return True\n",
    "        return False\n",
    "    except requests.ConnectionError:\n",
    "        return False\n",
    "\n",
    "def setup_ray(\n",
    "    services: any,\n",
    "    timeout: int\n",
    "):\n",
    "    start = t.time()\n",
    "    ray_client = None\n",
    "    if 0 < len(services):\n",
    "        ray_dashboard_url = 'http://' + services['ray-dashboard']\n",
    "        ray_exists = None\n",
    "        while t.time() - start <= timeout:\n",
    "            ray_exists = test_url(\n",
    "                target_url = ray_dashboard_url,\n",
    "                timeout = 5\n",
    "            )\n",
    "            if ray_exists:\n",
    "                break\n",
    "            t.sleep(5)\n",
    "        if ray_exists:\n",
    "            ray_client = JobSubmissionClient(\n",
    "                address = ray_dashboard_url\n",
    "            )\n",
    "    return ray_client\n",
    "\n",
    "def submit_ray_job(\n",
    "    ray_client: any,\n",
    "    ray_parameters: any,\n",
    "    ray_job_file: any,\n",
    "    working_directory: str,\n",
    "    ray_job_envs: any,\n",
    "    ray_job_packages: any\n",
    ") -> any:\n",
    "    command = \"python \" + str(ray_job_file)\n",
    "    if 0 < len(ray_parameters):\n",
    "        command = command + \" '\" + json.dumps(ray_parameters) + \"'\"\n",
    "    job_id = ray_client.submit_job(\n",
    "        entrypoint = command,\n",
    "        runtime_env = {\n",
    "            'working_dir': str(working_directory),\n",
    "            'env_vars': ray_job_envs,\n",
    "            'pip': ray_job_packages\n",
    "        }\n",
    "    )\n",
    "    return job_id\n",
    "\n",
    "def wait_ray_job(\n",
    "    ray_client: any,\n",
    "    ray_job_id: int, \n",
    "    waited_status: any,\n",
    "    timeout: int\n",
    ") -> any:\n",
    "    start = t.time()\n",
    "    job_status = None\n",
    "    while t.time() - start <= timeout:\n",
    "        status = ray_client.get_job_status(ray_job_id)\n",
    "        print(f\"status: {status}\")\n",
    "        if status in waited_status:\n",
    "            job_status = status\n",
    "            break\n",
    "        t.sleep(5)\n",
    "    job_logs = ray_client.get_job_logs(ray_job_id)\n",
    "    return job_status, job_logs\n",
    "\n",
    "def ray_job_handler(\n",
    "    ray_client: any,\n",
    "    ray_parameters: any,\n",
    "    ray_job_file: str,\n",
    "    ray_directory: str,\n",
    "    ray_job_envs: any,\n",
    "    ray_job_packages: any,\n",
    "    timeout: int\n",
    ") -> bool:\n",
    "    ray_job_id = submit_ray_job(\n",
    "        ray_client = ray_client,\n",
    "        ray_parameters = ray_parameters,\n",
    "        ray_job_file = ray_job_file,\n",
    "        working_directory = ray_directory,\n",
    "        ray_job_envs = ray_job_envs,\n",
    "        ray_job_packages = ray_job_packages\n",
    "    )\n",
    "\n",
    "    print('Ray batch job id: ' + str(ray_job_id))\n",
    "    \n",
    "    ray_job_status, ray_job_logs = wait_ray_job(\n",
    "        ray_client = ray_client,\n",
    "        ray_job_id = ray_job_id,\n",
    "        waited_status = {\n",
    "            JobStatus.SUCCEEDED, \n",
    "            JobStatus.STOPPED, \n",
    "            JobStatus.FAILED\n",
    "        }, \n",
    "        timeout = timeout\n",
    "    )\n",
    "    print('Ray batch job ended:')\n",
    "    success = True\n",
    "    if not ray_job_status == JobStatus.SUCCEEDED:\n",
    "        print('Ray batch job failed')\n",
    "        success = False\n",
    "    else:\n",
    "        print('Ray batch job succeeded')\n",
    "    print(ray_job_logs)\n",
    "    return success"
   ]
  },
  {
   "cell_type": "markdown",
   "id": "256c204d-af93-4647-abab-bf3cd6936294",
   "metadata": {},
   "source": [
    "## Job Functions"
   ]
  },
  {
   "cell_type": "markdown",
   "id": "1de434c4-81b3-47dc-a3aa-3d3d1b75a7c5",
   "metadata": {},
   "source": [
    "## Fetching and Storing Data"
   ]
  },
  {
   "cell_type": "code",
   "execution_count": null,
   "id": "213994bc-7016-44c7-9d68-216e83628640",
   "metadata": {},
   "outputs": [],
   "source": [
    "from decouple import Config,RepositoryEnv\n",
    "env_path = '/home/sfniila/.ssh/.env'\n",
    "env_config = Config(RepositoryEnv(env_path))\n",
    "github_token = env_config.get('GITHUB_TOKEN')\n",
    "repository_owner = 'K123AsJ0k1'\n",
    "repository_name = 'cloud-hpc-oss-mlops-platform'\n",
    "object_bucket = 'llm-rag'"
   ]
  },
  {
   "cell_type": "code",
   "execution_count": 8,
   "id": "2415b6f0-38ed-4337-9d0d-e84e63388882",
   "metadata": {},
   "outputs": [],
   "source": [
    "ray_client = setup_ray(\n",
    "    services = {\n",
    "        'ray-dashboard': '127.0.0.1:8265'\n",
    "    },\n",
    "    timeout = 10\n",
    ")"
   ]
  },
  {
   "cell_type": "code",
   "execution_count": 18,
   "id": "dbc16652-774f-44ec-8126-7f3a1dbabafa",
   "metadata": {},
   "outputs": [],
   "source": [
    "storage_parameters = {\n",
    "    'mongo-username': 'mongo123',\n",
    "    'mongo-password': 'mongo456',\n",
    "    'mongo-address': 'mongodb-service.llm-pro.svc.cluster.local',\n",
    "    'mongo-port': '27017',\n",
    "    'minio-endpoint': 'mlflow-minio-service.mlflow.svc.cluster.local:9000',\n",
    "    'minio-username': 'minioadmin',\n",
    "    'minio-password': 'minioadmin',\n",
    "    'object-bucket': object_bucket,\n",
    "    'object-path': repository_name,\n",
    "    'fetch-path-prefix': 'paths'\n",
    "}"
   ]
  },
  {
   "cell_type": "code",
   "execution_count": 19,
   "id": "1ecbb954-5d8c-40fd-b1a2-4f6e22f53408",
   "metadata": {},
   "outputs": [],
   "source": [
    "process_parameters = {\n",
    "    'worker-number': 6\n",
    "}"
   ]
  },
  {
   "cell_type": "code",
   "execution_count": 20,
   "id": "c7a5f1ef-b450-4267-9012-535a47bb35eb",
   "metadata": {},
   "outputs": [],
   "source": [
    "data_parameters = {\n",
    "    'github-token': github_token,\n",
    "    'repository-owner': repository_owner,\n",
    "    'repository-name': repository_name,\n",
    "    'replace': 'false',\n",
    "    'relevant-files': [\n",
    "        'md',\n",
    "        'yaml',\n",
    "        'py',\n",
    "        'ipynb'\n",
    "    ],\n",
    "    'document-type-priority': {\n",
    "        'md': 1,\n",
    "        'py': 2,\n",
    "        'ipynb': 3,\n",
    "        'yaml': 4\n",
    "    },\n",
    "    'batch-size': 20\n",
    "}"
   ]
  },
  {
   "cell_type": "code",
   "execution_count": 21,
   "id": "777d4eeb-7450-42fb-87cb-165eb6bd2e3e",
   "metadata": {},
   "outputs": [],
   "source": [
    "fetch_store_parameters = {\n",
    "    'process-parameters': process_parameters,\n",
    "    'storage-parameters': storage_parameters,\n",
    "    'data-parameters': data_parameters\n",
    "}"
   ]
  },
  {
   "cell_type": "code",
   "execution_count": 23,
   "id": "aee5e145-4441-4bd3-9b10-458cde88a6e9",
   "metadata": {},
   "outputs": [
    {
     "name": "stderr",
     "output_type": "stream",
     "text": [
      "2024-11-18 11:52:09,943\tINFO dashboard_sdk.py:338 -- Uploading package gcs://_ray_pkg_188cd878cb8cdcef.zip.\n",
      "2024-11-18 11:52:09,945\tINFO packaging.py:530 -- Creating a file package for local directory '/home/sfniila/Project/cloud-hpc-oss-mlops-platform/applications/development/LLMs/pipeline/preprocessing/ray_step_1'.\n"
     ]
    },
    {
     "name": "stdout",
     "output_type": "stream",
     "text": [
      "Ray batch job id: raysubmit_UbQjwqAB6knp9vF7\n",
      "status: PENDING\n",
      "status: RUNNING\n",
      "status: RUNNING\n",
      "status: RUNNING\n",
      "Ray batch job ended:\n",
      "Ray batch job failed\n",
      "2024-11-18 01:52:10,038\tINFO job_manager.py:529 -- Runtime env is setting up.\n",
      "Starting ray job\n",
      "Python version is:3.12.7 | packaged by Anaconda, Inc. | (main, Oct  4 2024, 13:27:36) [GCC 11.2.0]\n",
      "Ray version is:2.38.0\n",
      "PyGithub version is:2.5.0\n",
      "PyMongo version is:4.10.1\n",
      "Markdown version is:3.7\n",
      "Tree-sitter version is:0.23.0\n",
      "Tree-sitter-python version is:0.23.0\n",
      "BeautifulSoup version is:4.12.3\n",
      "NBformat version is:5.10.4\n",
      "Running store data\n",
      "Creating minio client\n",
      "Minio client created\n",
      "Getting repository paths\n",
      "Dividing paths for 6 workers\n",
      "Fetching paths\n",
      "Filtering paths\n",
      "Amount of paths: 2204\n",
      "Referencing paths\n",
      "2024-11-18 01:52:12,664\tINFO worker.py:1491 -- Using address 10.244.0.68:6379 set in the environment variable RAY_ADDRESS\n",
      "2024-11-18 01:52:12,664\tINFO worker.py:1631 -- Connecting to existing Ray cluster at address: 10.244.0.68:6379...\n",
      "2024-11-18 01:52:12,681\tINFO worker.py:1807 -- Connected to Ray cluster. View the dashboard at \u001b[1m\u001b[32mhttp://10.244.0.68:8265 \u001b[39m\u001b[22m\n",
      "Storing path documents\n",
      "\u001b[36m(store_path_documents pid=3248)\u001b[0m Storing documents of 368 paths\n",
      "\u001b[36m(store_path_documents pid=3248)\u001b[0m Batches processed: 0/20\n",
      "\u001b[36m(store_path_documents pid=3248)\u001b[0m New paths: 19\n",
      "\n"
     ]
    }
   ],
   "source": [
    "job_status = ray_job_handler(\n",
    "    ray_client = ray_client,\n",
    "    ray_parameters = fetch_store_parameters,\n",
    "    ray_job_file = 'store-rag-data.py',\n",
    "    ray_directory = '/home/sfniila/Project/cloud-hpc-oss-mlops-platform/applications/development/LLMs/pipeline/preprocessing/ray_step_1',\n",
    "    ray_job_envs = {},\n",
    "    ray_job_packages = [\n",
    "        'pymongo',\n",
    "        'minio',\n",
    "        'PyGithub',\n",
    "        'Markdown',\n",
    "        'tree-sitter==0.23.0',\n",
    "        'tree-sitter-python==0.23.0',\n",
    "        'beautifulsoup4',\n",
    "        'nbformat'\n",
    "    ],\n",
    "    timeout = 20\n",
    ")"
   ]
  },
  {
   "cell_type": "markdown",
   "id": "0f89d8a7-5677-4964-8b6f-066fd11d64b6",
   "metadata": {},
   "source": [
    "## CPU Preprocess"
   ]
  },
  {
   "cell_type": "code",
   "execution_count": 2,
   "id": "23243461-df66-4e88-9bc9-53ee51e7ab98",
   "metadata": {},
   "outputs": [],
   "source": [
    "ray_client = setup_ray(\n",
    "    services = {\n",
    "        'ray-dashboard': '127.0.0.1:8265'\n",
    "    },\n",
    "    timeout = 10\n",
    ")"
   ]
  },
  {
   "cell_type": "code",
   "execution_count": 3,
   "id": "b865ca8e-9e03-4320-ba32-e14f20e28dfe",
   "metadata": {},
   "outputs": [],
   "source": [
    "process_parameters = {\n",
    "    'worker-number': 6\n",
    "}"
   ]
  },
  {
   "cell_type": "code",
   "execution_count": 4,
   "id": "8977e494-8d85-4792-bfe4-c4933fd09dff",
   "metadata": {},
   "outputs": [],
   "source": [
    "repository_owner = 'K123AsJ0k1'\n",
    "repository_name = 'cloud-hpc-oss-mlops-platform'\n",
    "object_bucket = 'llm-rag'"
   ]
  },
  {
   "cell_type": "code",
   "execution_count": 5,
   "id": "73433aaa-f95b-41e1-856f-de220193561d",
   "metadata": {},
   "outputs": [],
   "source": [
    "storage_parameters = {\n",
    "    'object-bucket': object_bucket,\n",
    "    'object-path': repository_name,\n",
    "    'vector-collection-prefix': 'embeddings',\n",
    "    'search-collection-prefix': 'keywords',\n",
    "    'vector-identity-prefix': 'vector-identities',\n",
    "    'vector-hash-prefix': 'vector-hashes',\n",
    "    'search-identity-prefix': 'search-identities',\n",
    "    'mongo-username': 'mongo123',\n",
    "    'mongo-password': 'mongo456',\n",
    "    'mongo-address': 'mongodb-service.llm.svc.cluster.local',\n",
    "    'mongo-port': '27017',\n",
    "    'minio-endpoint': 'mlflow-minio-service.mlflow.svc.cluster.local:9000',\n",
    "    'minio-username': 'minioadmin',\n",
    "    'minio-password': 'minioadmin',\n",
    "    'qdrant-key': 'qdrant_key',\n",
    "    'qdrant-address': 'qdrant-service.llm.svc.cluster.local', \n",
    "    'qdrant-port': '7201',\n",
    "    'meili-key': 'meili_key', \n",
    "    'meili-host': 'http://meili-service.llm.svc.cluster.local:7202'\n",
    "}"
   ]
  },
  {
   "cell_type": "code",
   "execution_count": 6,
   "id": "80112dab-d160-434f-85bf-c35eea7e0f66",
   "metadata": {},
   "outputs": [],
   "source": [
    "data_parameters = {\n",
    "    'repository-owner': repository_owner,\n",
    "    'repository-name': repository_name,\n",
    "    'document-type-priority': {\n",
    "        'md': 1,\n",
    "        'py': 2,\n",
    "        'ipynb': 3,\n",
    "        'yaml': 4\n",
    "    },\n",
    "    'vector-collection-print': 2,\n",
    "    'search-collection-print': 2,\n",
    "    'python': {\n",
    "        'chunk-size': 50,\n",
    "        'chunk-overlap': 0,\n",
    "        'model-name': 'sentence-transformers/all-MiniLM-L6-v2'\n",
    "    },\n",
    "    'markdown': {\n",
    "        'chunk-size': 50,\n",
    "        'chunk-overlap': 0,\n",
    "        'model-name': 'sentence-transformers/all-MiniLM-L6-v2'\n",
    "    },\n",
    "    'yaml': {\n",
    "        'chunk-size': 50,\n",
    "        'chunk-overlap': 0,\n",
    "        'model-name': 'sentence-transformers/all-MiniLM-L6-v2'\n",
    "    }\n",
    "}"
   ]
  },
  {
   "cell_type": "code",
   "execution_count": 7,
   "id": "80108071-4259-4636-a101-f60e0cd8df62",
   "metadata": {},
   "outputs": [],
   "source": [
    "preprocess_parameters = {\n",
    "    'process-parameters': process_parameters,\n",
    "    'storage-parameters': storage_parameters,\n",
    "    'data-parameters': data_parameters\n",
    "}"
   ]
  },
  {
   "cell_type": "code",
   "execution_count": 8,
   "id": "27118136-ab87-46c3-8222-653a0cbacbd8",
   "metadata": {},
   "outputs": [
    {
     "name": "stderr",
     "output_type": "stream",
     "text": [
      "2024-11-14 10:53:30,764\tINFO dashboard_sdk.py:338 -- Uploading package gcs://_ray_pkg_898f3e281f14cab8.zip.\n",
      "2024-11-14 10:53:30,766\tINFO packaging.py:530 -- Creating a file package for local directory '/home/sfniila/Project/cloud-hpc-oss-mlops-platform/applications/development/LLMs/pipeline/preprocessing/ray_step_2'.\n"
     ]
    },
    {
     "name": "stdout",
     "output_type": "stream",
     "text": [
      "Ray batch job id: raysubmit_kURFDiULrFYiEbq3\n",
      "status: PENDING\n",
      "status: PENDING\n",
      "status: PENDING\n",
      "status: PENDING\n",
      "status: PENDING\n",
      "status: PENDING\n",
      "Ray batch job ended:\n",
      "Ray batch job failed\n",
      "\n"
     ]
    }
   ],
   "source": [
    "job_status = ray_job_handler(\n",
    "    ray_client = ray_client,\n",
    "    ray_parameters = preprocess_parameters,\n",
    "    ray_job_file = 'preprocess-rag-data.py',\n",
    "    ray_directory = '/home/sfniila/Project/cloud-hpc-oss-mlops-platform/applications/development/LLMs/pipeline/preprocessing/ray_step_2',\n",
    "    ray_job_envs = {},\n",
    "    ray_job_packages = [\n",
    "        'pymongo',\n",
    "        'minio',\n",
    "        'qdrant-client',\n",
    "        'meilisearch',\n",
    "        'langchain',\n",
    "        'langchain-huggingface',\n",
    "        'spacy',\n",
    "        'https://github.com/explosion/spacy-models/releases/download/en_core_web_sm-3.8.0/en_core_web_sm-3.8.0-py3-none-any.whl'\n",
    "    ],\n",
    "    timeout = 30\n",
    ")"
   ]
  },
  {
   "cell_type": "markdown",
   "id": "c9e2c7f4-6ec0-474c-b23f-a3d91947c054",
   "metadata": {},
   "source": [
    "## GPU Preprocess"
   ]
  },
  {
   "cell_type": "code",
   "execution_count": 30,
   "id": "287a4840-cea7-4408-a0c1-2e80c9f3c536",
   "metadata": {},
   "outputs": [],
   "source": [
    "repository_owner = 'K123AsJ0k1'\n",
    "repository_name = 'cloud-hpc-oss-mlops-platform'\n",
    "object_bucket = 'llm-rag'"
   ]
  },
  {
   "cell_type": "code",
   "execution_count": 72,
   "id": "ee3d2115-dfe2-4423-bf26-b20e7fbc31d0",
   "metadata": {},
   "outputs": [],
   "source": [
    "ray_client = setup_ray(\n",
    "    services = {\n",
    "        'ray-dashboard': '127.0.0.1:8265'\n",
    "    },\n",
    "    timeout = 10\n",
    ")"
   ]
  },
  {
   "cell_type": "code",
   "execution_count": 73,
   "id": "d65e5381-db7e-4b3c-afff-0f6c5448b2a0",
   "metadata": {},
   "outputs": [],
   "source": [
    "process_parameters = {\n",
    "    'actor-number': 1,\n",
    "    'embedding-model': 'sentence-transformers/all-MiniLM-L6-v2',\n",
    "    'keyword-model': 'en_core_web_sm',\n",
    "    'worker-number': 6,\n",
    "}"
   ]
  },
  {
   "cell_type": "code",
   "execution_count": 74,
   "id": "b97fb2ee-3d5f-4c1c-8305-c610e86c6540",
   "metadata": {},
   "outputs": [],
   "source": [
    "storage_parameters = {\n",
    "    'object-bucket': object_bucket,\n",
    "    'object-path': repository_name,\n",
    "    'vector-collection-prefix': 'embeddings',\n",
    "    'search-collection-prefix': 'keywords',\n",
    "    'vector-identity-prefix': 'vector-identities',\n",
    "    'vector-hash-prefix': 'vector-hashes',\n",
    "    'search-identity-prefix': 'search-identities',\n",
    "    'mongo-username': 'mongo123',\n",
    "    'mongo-password': 'mongo456',\n",
    "    'mongo-address': 'mongodb-service.llm-pro.svc.cluster.local',\n",
    "    'mongo-port': '27017',\n",
    "    'minio-endpoint': 'mlflow-minio-service.mlflow.svc.cluster.local:9000',\n",
    "    'minio-username': 'minioadmin',\n",
    "    'minio-password': 'minioadmin',\n",
    "    'qdrant-key': 'qdrant_key',\n",
    "    'qdrant-address': 'qdrant-service.llm-pro.svc.cluster.local', \n",
    "    'qdrant-port': '7201',\n",
    "    'meili-key': 'meili_key', \n",
    "    'meili-host': 'http://meili-service.llm-pro.svc.cluster.local:7202'\n",
    "}"
   ]
  },
  {
   "cell_type": "code",
   "execution_count": 75,
   "id": "062b986a-8602-4d5f-9503-2ae5f0608e6a",
   "metadata": {},
   "outputs": [],
   "source": [
    "data_parameters = {\n",
    "    'repository-owner': repository_owner,\n",
    "    'repository-name': repository_name,\n",
    "    'document-type-priority': {\n",
    "        'md': 1,\n",
    "        'py': 2,\n",
    "        'ipynb': 3,\n",
    "        'yaml': 4\n",
    "    },\n",
    "    'vector-collection-print': 6,\n",
    "    'search-collection-print': 6,\n",
    "    'markdown': {\n",
    "        'chunk-size': 50,\n",
    "        'chunk-overlap': 0,\n",
    "    },\n",
    "    'python': {\n",
    "        'chunk-size': 50,\n",
    "        'chunk-overlap': 0,\n",
    "    },\n",
    "    'yaml': {\n",
    "        'chunk-size': 50,\n",
    "        'chunk-overlap': 0,\n",
    "    }\n",
    "}"
   ]
  },
  {
   "cell_type": "code",
   "execution_count": 76,
   "id": "e63df914-2cf9-4753-8085-ab3227b73cb8",
   "metadata": {},
   "outputs": [],
   "source": [
    "preprocess_parameters = {\n",
    "    'process-parameters': process_parameters,\n",
    "    'storage-parameters': storage_parameters,\n",
    "    'data-parameters': data_parameters\n",
    "}"
   ]
  },
  {
   "cell_type": "code",
   "execution_count": 78,
   "id": "231f386c-5ad3-4e4b-b36d-36b26ad44cd4",
   "metadata": {},
   "outputs": [
    {
     "name": "stderr",
     "output_type": "stream",
     "text": [
      "2024-11-18 15:34:36,530\tINFO dashboard_sdk.py:338 -- Uploading package gcs://_ray_pkg_ea61199e51e0297d.zip.\n",
      "2024-11-18 15:34:36,531\tINFO packaging.py:530 -- Creating a file package for local directory '/home/sfniila/Project/cloud-hpc-oss-mlops-platform/applications/development/LLMs/pipeline/preprocessing/cpu_gpu_preprocess_step'.\n"
     ]
    },
    {
     "name": "stdout",
     "output_type": "stream",
     "text": [
      "Ray batch job id: raysubmit_hHjgt8c3pqtAgieq\n",
      "status: PENDING\n",
      "Ray batch job ended:\n",
      "Ray batch job failed\n",
      "2024-11-18 05:34:36,635\tINFO job_manager.py:529 -- Runtime env is setting up.\n",
      "Starting ray job\n",
      "Python version is:3.12.7 | packaged by Anaconda, Inc. | (main, Oct  4 2024, 13:27:36) [GCC 11.2.0]\n",
      "Ray version is:2.38.0\n",
      "PyMongo version is:4.10.1\n",
      "Qdrant version is:1.12.1\n",
      "Meilisearch version is:0.31.6\n",
      "Langchain version is:0.3.7\n",
      "Langchain huggingface version is:0.1.2\n",
      "Spacy version is:3.7.5\n",
      "Running preprocess\n",
      "Creating mongo client\n",
      "Mongo client created\n",
      "Creating minio client\n",
      "Minio client created\n",
      "Creating qdrant client\n",
      "/tmp/ray/session_2024-11-18_05-22-54_489955_1/runtime_resources/pip/366d0b1a32f89443803b3934120b153351820de8/virtualenv/lib/python3.12/site-packages/qdrant_client/qdrant_remote.py:130: UserWarning: Api key is used with an insecure connection.\n",
      "  warnings.warn(\"Api key is used with an insecure connection.\")\n",
      "Qdrant client created\n",
      "Creating 1 generator actors\n",
      "2024-11-18 05:34:41,165\tINFO worker.py:1491 -- Using address 10.244.0.83:6379 set in the environment variable RAY_ADDRESS\n",
      "2024-11-18 05:34:41,165\tINFO worker.py:1631 -- Connecting to existing Ray cluster at address: 10.244.0.83:6379...\n",
      "2024-11-18 05:34:41,190\tINFO worker.py:1807 -- Connected to Ray cluster. View the dashboard at \u001b[1m\u001b[32mhttp://10.244.0.83:8265 \u001b[39m\u001b[22m\n",
      "Getting stored documents\n",
      "Dividing documents for 6 workers\n",
      "\n"
     ]
    }
   ],
   "source": [
    "job_status = ray_job_handler(\n",
    "    ray_client = ray_client,\n",
    "    ray_parameters = preprocess_parameters,\n",
    "    ray_job_file = 'preprocess-rag-data.py',\n",
    "    ray_directory = '/home/sfniila/Project/cloud-hpc-oss-mlops-platform/applications/development/LLMs/pipeline/preprocessing/cpu_gpu_preprocess_step',\n",
    "    ray_job_envs = {},\n",
    "    ray_job_packages = [\n",
    "        'pymongo',\n",
    "        'minio',\n",
    "        'qdrant-client',\n",
    "        'meilisearch',\n",
    "        'langchain',\n",
    "        'langchain-huggingface',\n",
    "        'spacy[cuda122]',\n",
    "        'https://github.com/explosion/spacy-models/releases/download/en_core_web_sm-3.8.0/en_core_web_sm-3.8.0-py3-none-any.whl'\n",
    "    ],\n",
    "    timeout = 5\n",
    ")"
   ]
  },
  {
   "cell_type": "markdown",
   "id": "55cc9c7a-86c7-4932-a32b-7cfbc53a2515",
   "metadata": {},
   "source": [
    "## Batch GPU"
   ]
  },
  {
   "cell_type": "code",
   "execution_count": 18,
   "id": "d5217446-ae92-47ea-bad6-f55cbb43177f",
   "metadata": {},
   "outputs": [],
   "source": [
    "repository_owner = 'K123AsJ0k1'\n",
    "repository_name = 'cloud-hpc-oss-mlops-platform'\n",
    "object_bucket = 'llm-rag'"
   ]
  },
  {
   "cell_type": "code",
   "execution_count": 19,
   "id": "867adc39-45a8-4b13-a017-feea310faf27",
   "metadata": {},
   "outputs": [],
   "source": [
    "ray_client = setup_ray(\n",
    "    services = {\n",
    "        'ray-dashboard': '127.0.0.1:8265'\n",
    "    },\n",
    "    timeout = 10\n",
    ")"
   ]
  },
  {
   "cell_type": "code",
   "execution_count": 20,
   "id": "304ca16b-90e0-44e7-a87c-f6ff1014145f",
   "metadata": {},
   "outputs": [],
   "source": [
    "process_parameters = {\n",
    "    'actor-number': 1,\n",
    "    'embedding-model': 'sentence-transformers/all-MiniLM-L6-v2',\n",
    "    'keyword-model': 'en_core_web_sm',\n",
    "    'worker-number': 6,\n",
    "}"
   ]
  },
  {
   "cell_type": "code",
   "execution_count": 21,
   "id": "ffe07337-5a7d-410a-9d77-7315b49a1def",
   "metadata": {},
   "outputs": [],
   "source": [
    "storage_parameters = {\n",
    "    'object-bucket': object_bucket,\n",
    "    'object-path': repository_name,\n",
    "    'vector-collection-prefix': 'embeddings',\n",
    "    'search-collection-prefix': 'keywords',\n",
    "    'vector-identity-prefix': 'vector-identities',\n",
    "    'search-identity-prefix': 'search-identities',\n",
    "    'mongo-username': 'mongo123',\n",
    "    'mongo-password': 'mongo456',\n",
    "    'mongo-address': 'mongodb-service.llm-pro.svc.cluster.local',\n",
    "    'mongo-port': '27017',\n",
    "    'minio-endpoint': 'mlflow-minio-service.mlflow.svc.cluster.local:9000',\n",
    "    'minio-username': 'minioadmin',\n",
    "    'minio-password': 'minioadmin',\n",
    "    'qdrant-key': 'qdrant_key',\n",
    "    'qdrant-address': 'qdrant-service.llm-pro.svc.cluster.local', \n",
    "    'qdrant-port': '7201',\n",
    "    'meili-key': 'meili_key', \n",
    "    'meili-host': 'http://meili-service.llm-pro.svc.cluster.local:7202'\n",
    "}"
   ]
  },
  {
   "cell_type": "code",
   "execution_count": 22,
   "id": "7893d971-4455-4373-aecc-9cc910c8bc9f",
   "metadata": {},
   "outputs": [],
   "source": [
    "data_parameters = {\n",
    "    'repository-owner': repository_owner,\n",
    "    'repository-name': repository_name,\n",
    "    'document-type-priority': {\n",
    "        'md': 1,\n",
    "        'py': 2,\n",
    "        'ipynb': 3,\n",
    "        'yaml': 4\n",
    "    },\n",
    "    'vector-collection-print': 10,\n",
    "    'embedding-length': 384,\n",
    "    'embedding-batch-size': 20,\n",
    "    'markdown': {\n",
    "        'chunk-size': 50,\n",
    "        'chunk-overlap': 0,\n",
    "    },\n",
    "    'python': {\n",
    "        'chunk-size': 50,\n",
    "        'chunk-overlap': 0,\n",
    "    },\n",
    "    'yaml': {\n",
    "        'chunk-size': 50,\n",
    "        'chunk-overlap': 0,\n",
    "    },\n",
    "    'points-batch-size': 40,\n",
    "    'search-collection-print': 10,\n",
    "    'keyword-batch-size': 20\n",
    "}"
   ]
  },
  {
   "cell_type": "code",
   "execution_count": 23,
   "id": "7016192c-ce7f-445c-a677-d5f7ff8a9215",
   "metadata": {},
   "outputs": [],
   "source": [
    "preprocess_parameters = {\n",
    "    'process-parameters': process_parameters,\n",
    "    'storage-parameters': storage_parameters,\n",
    "    'data-parameters': data_parameters\n",
    "}"
   ]
  },
  {
   "cell_type": "code",
   "execution_count": 27,
   "id": "dffb31d0-3f01-4d89-80a4-cdcac74bf0c1",
   "metadata": {},
   "outputs": [
    {
     "name": "stderr",
     "output_type": "stream",
     "text": [
      "2024-11-20 15:41:51,414\tINFO dashboard_sdk.py:338 -- Uploading package gcs://_ray_pkg_336c2a26bf83d3eb.zip.\n",
      "2024-11-20 15:41:51,421\tINFO packaging.py:530 -- Creating a file package for local directory '/home/sfniila/Project/cloud-hpc-oss-mlops-platform/applications/development/LLMs/pipeline/preprocessing/batch_cpu_gpu_preprocess_step'.\n"
     ]
    },
    {
     "name": "stdout",
     "output_type": "stream",
     "text": [
      "Ray batch job id: raysubmit_V7MkbeMrrV4iyTeX\n",
      "status: PENDING\n",
      "Ray batch job ended:\n",
      "Ray batch job failed\n",
      "2024-11-20 05:41:51,529\tINFO job_manager.py:529 -- Runtime env is setting up.\n",
      "Starting ray job\n",
      "Python version is:3.12.7 | packaged by Anaconda, Inc. | (main, Oct  4 2024, 13:27:36) [GCC 11.2.0]\n",
      "Ray version is:2.38.0\n",
      "PyMongo version is:4.10.1\n",
      "Qdrant version is:1.12.1\n",
      "Meilisearch version is:0.31.6\n",
      "Langchain version is:0.3.7\n",
      "Langchain huggingface version is:0.1.2\n",
      "Spacy version is:3.7.5\n",
      "Running preprocess\n",
      "Creating mongo client\n",
      "Mongo client created\n",
      "Creating minio client\n",
      "Minio client created\n",
      "Creating qdrant client\n",
      "/tmp/ray/session_2024-11-20_04-48-40_830699_1/runtime_resources/pip/366d0b1a32f89443803b3934120b153351820de8/virtualenv/lib/python3.12/site-packages/qdrant_client/qdrant_remote.py:130: UserWarning: Api key is used with an insecure connection.\n",
      "  warnings.warn(\"Api key is used with an insecure connection.\")\n",
      "Qdrant client created\n",
      "Creating 1 generator actors\n",
      "2024-11-20 05:41:56,159\tINFO worker.py:1491 -- Using address 10.244.0.71:6379 set in the environment variable RAY_ADDRESS\n",
      "2024-11-20 05:41:56,159\tINFO worker.py:1631 -- Connecting to existing Ray cluster at address: 10.244.0.71:6379...\n",
      "2024-11-20 05:41:56,174\tINFO worker.py:1807 -- Connected to Ray cluster. View the dashboard at \u001b[1m\u001b[32mhttp://10.244.0.71:8265 \u001b[39m\u001b[22m\n",
      "Getting stored documents\n",
      "Dividing documents for 6 workers\n",
      "\n"
     ]
    }
   ],
   "source": [
    "job_status = ray_job_handler(\n",
    "    ray_client = ray_client,\n",
    "    ray_parameters = preprocess_parameters,\n",
    "    ray_job_file = 'preprocess-data.py',\n",
    "    ray_directory = '/home/sfniila/Project/cloud-hpc-oss-mlops-platform/applications/development/LLMs/pipeline/preprocessing/batch_cpu_gpu_preprocess_step',\n",
    "    ray_job_envs = {},\n",
    "    ray_job_packages = [\n",
    "        'pymongo',\n",
    "        'minio',\n",
    "        'qdrant-client',\n",
    "        'meilisearch',\n",
    "        'langchain',\n",
    "        'langchain-huggingface',\n",
    "        'spacy[cuda122]',\n",
    "        'https://github.com/explosion/spacy-models/releases/download/en_core_web_sm-3.8.0/en_core_web_sm-3.8.0-py3-none-any.whl'\n",
    "    ],\n",
    "    timeout = 5\n",
    ")"
   ]
  },
  {
   "cell_type": "code",
   "execution_count": null,
   "id": "e1834558-0089-4223-8ebf-b8d2a8eed955",
   "metadata": {},
   "outputs": [],
   "source": []
  },
  {
   "cell_type": "code",
   "execution_count": null,
   "id": "1e6a870c-ecef-4b2a-b11f-d058e1d3b9dd",
   "metadata": {},
   "outputs": [],
   "source": []
  },
  {
   "cell_type": "code",
   "execution_count": null,
   "id": "fbc95344-27b0-4fe3-b739-5f80399ed42c",
   "metadata": {},
   "outputs": [],
   "source": []
  },
  {
   "cell_type": "code",
   "execution_count": 65,
   "id": "f600f74e-f018-4e25-8942-38870d4d2a4a",
   "metadata": {},
   "outputs": [
    {
     "data": {
      "text/plain": [
       "True"
      ]
     },
     "execution_count": 65,
     "metadata": {},
     "output_type": "execute_result"
    }
   ],
   "source": [
    "ray_client.stop_job('raysubmit_XewC5d51N1N2Qg1M')"
   ]
  },
  {
   "cell_type": "code",
   "execution_count": 2,
   "id": "9c4119ca-1e9b-4809-8508-5d3c6aa4ff6d",
   "metadata": {},
   "outputs": [],
   "source": []
  },
  {
   "cell_type": "code",
   "execution_count": null,
   "id": "e5c55a2a-c1bd-4fac-a3bb-e37a3af71b96",
   "metadata": {},
   "outputs": [],
   "source": []
  },
  {
   "cell_type": "code",
   "execution_count": 3,
   "id": "3e7741c4-4e49-438c-8340-4e9ce7169da5",
   "metadata": {},
   "outputs": [],
   "source": [
    "def batch_list(\n",
    "    target: any, \n",
    "    size: int\n",
    "):\n",
    "    return [target[i:i + size] for i in range(0, len(target), size)]"
   ]
  },
  {
   "cell_type": "code",
   "execution_count": 5,
   "id": "0dfb5612-6b7d-4a46-a336-20ba3be5813f",
   "metadata": {},
   "outputs": [],
   "source": [
    "example_list = [1,2,3,4,5]"
   ]
  },
  {
   "cell_type": "code",
   "execution_count": 12,
   "id": "8cd146f2-2767-4857-bb02-59f2c1981294",
   "metadata": {},
   "outputs": [],
   "source": [
    "batches = batch_list(\n",
    "    target = example_list, \n",
    "    size = 3\n",
    ")"
   ]
  },
  {
   "cell_type": "code",
   "execution_count": 13,
   "id": "58d5a9a4-3b93-4f23-9211-56cfa075cb4a",
   "metadata": {},
   "outputs": [
    {
     "data": {
      "text/plain": [
       "[[1, 2, 3], [4, 5]]"
      ]
     },
     "execution_count": 13,
     "metadata": {},
     "output_type": "execute_result"
    }
   ],
   "source": [
    "batches"
   ]
  },
  {
   "cell_type": "code",
   "execution_count": null,
   "id": "8af71b75-e870-4c1c-8beb-919c8d7285a3",
   "metadata": {},
   "outputs": [],
   "source": []
  },
  {
   "cell_type": "code",
   "execution_count": null,
   "id": "4e8f2cfe-9379-440d-a250-896f915c1486",
   "metadata": {},
   "outputs": [],
   "source": [
    "'github-token': github_token,\n",
    "'repository-owner': repository_owner,\n",
    "'repository-name': repository_name,"
   ]
  },
  {
   "cell_type": "code",
   "execution_count": 26,
   "id": "8ef63dcb-95d4-4150-98a6-406b2610dbb5",
   "metadata": {},
   "outputs": [],
   "source": [
    "from github import Github\n",
    "\n",
    "def pygithub_get_repo_paths(\n",
    "    token: str,\n",
    "    owner: str, \n",
    "    name: str\n",
    ") -> any:\n",
    "    g = Github(token)\n",
    "    repo = g.get_repo(f\"{owner}/{name}\")\n",
    "    contents = repo.get_contents(\"\")\n",
    "    paths = []\n",
    "    print(len(contents))\n",
    "    #while len(contents) > 0:\n",
    "    #  file_content = contents.pop(0)\n",
    "    #  if file_content.type == 'dir':\n",
    "    #    contents.extend(repo.get_contents(file_content.path))\n",
    "    #  else:\n",
    "    #    paths.append(file_content.path)\n",
    "    g.close()\n",
    "    return paths"
   ]
  },
  {
   "cell_type": "code",
   "execution_count": 27,
   "id": "022b9aa8-f0b0-4482-b35c-8cfc9c79005d",
   "metadata": {},
   "outputs": [
    {
     "name": "stdout",
     "output_type": "stream",
     "text": [
      "22\n"
     ]
    },
    {
     "data": {
      "text/plain": [
       "[]"
      ]
     },
     "execution_count": 27,
     "metadata": {},
     "output_type": "execute_result"
    }
   ],
   "source": [
    "pygithub_get_repo_paths(\n",
    "    token = github_token,\n",
    "    owner = repository_owner, \n",
    "    name = repository_name\n",
    ")"
   ]
  },
  {
   "cell_type": "code",
   "execution_count": null,
   "id": "71357ad6-e9d2-48c1-813b-a4cf8be508ee",
   "metadata": {},
   "outputs": [],
   "source": []
  },
  {
   "cell_type": "code",
   "execution_count": null,
   "id": "25bef0e7-8839-458f-87a6-ea6a9414592f",
   "metadata": {},
   "outputs": [],
   "source": []
  },
  {
   "cell_type": "code",
   "execution_count": 65,
   "id": "3c9b5dad-87df-4610-9d93-68fe3f0145c9",
   "metadata": {},
   "outputs": [],
   "source": [
    "from qdrant_client import QdrantClient as qc\n",
    "\n",
    "def qdrant_is_client(\n",
    "    storage_client: any\n",
    ") -> any:\n",
    "    try:\n",
    "        return isinstance(storage_client, qc.Connection)\n",
    "    except Exception as e:\n",
    "        return False\n",
    "\n",
    "def qdrant_setup_client(\n",
    "    api_key: str,\n",
    "    address: str, \n",
    "    port: str\n",
    ") -> any:\n",
    "    try:\n",
    "        qdrant_client = qc(\n",
    "            host = address,\n",
    "            port = int(port),\n",
    "            api_key = api_key,\n",
    "            https = False\n",
    "        ) \n",
    "        return qdrant_client\n",
    "    except Exception as e:\n",
    "        return None\n",
    "\n",
    "def qdrant_create_collection(\n",
    "    qdrant_client: any, \n",
    "    collection_name: str,\n",
    "    configuration: any\n",
    ") -> any:\n",
    "    try:\n",
    "        result = qdrant_client.create_collection(\n",
    "            collection_name = collection_name,\n",
    "            vectors_config = configuration\n",
    "        )\n",
    "        return result\n",
    "    except Exception as e:\n",
    "        print(e)\n",
    "        return None\n",
    "\n",
    "def qdrant_get_collection(\n",
    "    qdrant_client: any, \n",
    "    collection_name: str\n",
    ") -> any:\n",
    "    try:\n",
    "        collection = qdrant_client.get_collection(\n",
    "            collection_name = collection_name\n",
    "        )\n",
    "        return collection\n",
    "    except Exception as e:\n",
    "        return None\n",
    "\n",
    "def qdrant_collection_number(\n",
    "    qdrant_client: any, \n",
    "    collection_name: str,\n",
    "    count_filter: any\n",
    ") -> any:\n",
    "    try:\n",
    "        result = qdrant_client.count(\n",
    "            collection_name = collection_name,\n",
    "            count_filter = count_filter,\n",
    "            exact =  True\n",
    "        )\n",
    "        return result.count\n",
    "    except Exception as e:\n",
    "        print(e)\n",
    "        return None\n",
    "\n",
    "def qdrant_list_collections(\n",
    "    qdrant_client: any\n",
    ") -> any:\n",
    "    try:\n",
    "        collections = qdrant_client.get_collections()\n",
    "        collection_list = []\n",
    "        for description in collections.collections:\n",
    "            collection_list.append(description.name)\n",
    "        return collection_list\n",
    "    except Exception as e:\n",
    "        return []\n",
    "    \n",
    "def qdrant_remove_collection(\n",
    "    qdrant_client: any, \n",
    "    collection_name: str\n",
    ") -> bool:\n",
    "    try:\n",
    "        qdrant_client.delete_collection(collection_name)\n",
    "        return True\n",
    "    except Exception as e:\n",
    "        return False\n",
    "\n",
    "def qdrant_upsert_points(\n",
    "    qdrant_client: qc, \n",
    "    collection_name: str,\n",
    "    points: any\n",
    ") -> any:\n",
    "    try:\n",
    "        results = qdrant_client.upsert(\n",
    "            collection_name = collection_name, \n",
    "            points = points\n",
    "        )\n",
    "        return results\n",
    "    except Exception as e:\n",
    "        print(e)\n",
    "        return None\n",
    "\n",
    "def qdrant_search_data(\n",
    "    qdrant_client: qc,  \n",
    "    collection_name: str,\n",
    "    scroll_filter: any,\n",
    "    limit: int,\n",
    "    offset: any\n",
    ") -> any:\n",
    "    try:\n",
    "        hits = qdrant_client.scroll(\n",
    "            collection_name = collection_name,\n",
    "            scroll_filter = scroll_filter,\n",
    "            limit = limit,\n",
    "            with_payload = True,\n",
    "            offset = offset\n",
    "        )\n",
    "        return hits\n",
    "    except Exception as e:\n",
    "        print(e)\n",
    "        return []\n",
    "\n",
    "def qdrant_search_vectors(\n",
    "    qdrant_client: qc,  \n",
    "    collection_name: str,\n",
    "    query_vector: any,\n",
    "    limit: str\n",
    ") -> any:\n",
    "    try:\n",
    "        hits = qdrant_client.search(\n",
    "            collection_name = collection_name,\n",
    "            query_vector = query_vector,\n",
    "            limit = limit\n",
    "        )\n",
    "        return hits\n",
    "    except Exception as e:\n",
    "        return []\n",
    "\n",
    "def qdrant_remove_points(\n",
    "    qdrant_client: qc,  \n",
    "    collection_name: str, \n",
    "    points_selector: any\n",
    ") -> bool:\n",
    "    try:\n",
    "        results = qdrant_client.delete(\n",
    "            collection_name = collection_name,\n",
    "            points_selector = points_selector\n",
    "        )\n",
    "        return results\n",
    "    except Exception as e:\n",
    "        print(f\"Error removing document: {e}\")\n",
    "        return None"
   ]
  },
  {
   "cell_type": "code",
   "execution_count": 7,
   "id": "65fd6a44-ce8e-4782-b9f1-627b5ad0a300",
   "metadata": {},
   "outputs": [],
   "source": [
    "qdrant_client = qdrant_setup_client(\n",
    "    api_key = 'qdrant_key',\n",
    "    address = '127.0.0.1', \n",
    "    port = '7201'\n",
    ")"
   ]
  },
  {
   "cell_type": "code",
   "execution_count": 16,
   "id": "cf4cc9a7-422e-4d84-a1a3-5166ae6b0c8a",
   "metadata": {},
   "outputs": [],
   "source": [
    "example_number = qdrant_collection_number(\n",
    "    qdrant_client = qdrant_client, \n",
    "    collection_name = 'K123AsJ0k1-cloud-hpc-oss-mlops-platform-ipynb-embeddings',\n",
    "    count_filter = {}\n",
    ")"
   ]
  },
  {
   "cell_type": "code",
   "execution_count": 17,
   "id": "185570d4-e78c-4b5e-b97f-072f06e45d24",
   "metadata": {},
   "outputs": [
    {
     "data": {
      "text/plain": [
       "25862"
      ]
     },
     "execution_count": 17,
     "metadata": {},
     "output_type": "execute_result"
    }
   ],
   "source": [
    "example_number"
   ]
  },
  {
   "cell_type": "code",
   "execution_count": 79,
   "id": "f6859aa7-c881-4381-badd-706d93d249d0",
   "metadata": {},
   "outputs": [],
   "source": [
    "from qdrant_client.models import PointIdsList\n",
    "\n",
    "def remove_duplicate_vectors(\n",
    "    qdrant_client: any,\n",
    "    collection_name: str\n",
    "):\n",
    "    print('Cleaning collection ' + str(collection_name))\n",
    "    collection_number = qdrant_collection_number(\n",
    "        qdrant_client = qdrant_client, \n",
    "        collection_name = collection_name,\n",
    "        count_filter = {}\n",
    "    )\n",
    "\n",
    "    print('Collection vectors: ' + str(collection_number))\n",
    "\n",
    "    batch_size = 200\n",
    "    scroll_offset = None\n",
    "\n",
    "    unique_point_ids = set()\n",
    "    unique_chunk_hashes = set()\n",
    "    duplicate_vectors = []\n",
    "    while True:\n",
    "        vectors = qdrant_search_data(\n",
    "            qdrant_client = qdrant_client,  \n",
    "            collection_name = collection_name,\n",
    "            scroll_filter = {},\n",
    "            limit = batch_size,\n",
    "            offset = scroll_offset\n",
    "        )\n",
    "        \n",
    "        for vector in vectors[0]:\n",
    "            chunk_hash = vector.payload['chunk_hash']\n",
    "            vector_id = vector.id\n",
    "            # Scroll can cause double count\n",
    "            # so id check is needed\n",
    "            if not vector_id in unique_point_ids:\n",
    "                unique_point_ids.add(vector_id)\n",
    "                if not chunk_hash in unique_chunk_hashes:\n",
    "                    unique_chunk_hashes.add(chunk_hash)\n",
    "                else:\n",
    "                    duplicate_vectors.append(vector_id)\n",
    "\n",
    "        if len(vectors[0]) < batch_size:\n",
    "            break\n",
    "\n",
    "        scroll_offset = vectors[0][-1].id\n",
    "\n",
    "    print('Found unique vectors: ' + str(len(unique_chunk_hashes)))\n",
    "    print('Found duplicate vectors: ' + str(len(duplicate_vectors)))\n",
    "    if 0 < len(duplicate_vectors):\n",
    "        status = qdrant_remove_points(\n",
    "            qdrant_client = qdrant_client,  \n",
    "            collection_name = collection_name, \n",
    "            points_selector = PointIdsList(\n",
    "                points = duplicate_vectors\n",
    "            )\n",
    "        ) "
   ]
  },
  {
   "cell_type": "code",
   "execution_count": 80,
   "id": "95dcfcf8-14b6-46dc-a47b-cb43451e22eb",
   "metadata": {},
   "outputs": [
    {
     "name": "stdout",
     "output_type": "stream",
     "text": [
      "Cleaning collection K123AsJ0k1-cloud-hpc-oss-mlops-platform-yaml-embeddings\n",
      "Collection vectors: 63954\n",
      "Found unique vectors: 31740\n",
      "Found duplicate vectors: 32214\n"
     ]
    }
   ],
   "source": [
    "remove_duplicate_vectors(\n",
    "    qdrant_client = qdrant_client,\n",
    "    collection_name = 'K123AsJ0k1-cloud-hpc-oss-mlops-platform-yaml-embeddings'\n",
    ")"
   ]
  },
  {
   "cell_type": "code",
   "execution_count": null,
   "id": "cbd18abe-83bc-4ad0-b28f-740325598269",
   "metadata": {},
   "outputs": [],
   "source": [
    "example_tuples = [\n",
    "    ('K123AsJ0k1|cloud-hpc-oss-mlops-platform|ipynb', '3-1', 3, 10),\n",
    "    ('K123AsJ0k1|cloud-hpc-oss-mlops-platform|ipynb', '3-2', 3, 20),\n",
    "    ('K123AsJ0k1|cloud-hpc-oss-mlops-platform|md', '1-1', 1, 10),\n",
    "    ('K123AsJ0k1|cloud-hpc-oss-mlops-platform|md', '1-2', 1, 5),\n",
    "    ('K123AsJ0k1|cloud-hpc-oss-mlops-platform|py', '2-1', 2, 7),\n",
    "    ('K123AsJ0k1|cloud-hpc-oss-mlops-platform|py', '2-2', 2, 2),\n",
    "    ('K123AsJ0k1|cloud-hpc-oss-mlops-platform|yaml', '4-1', 4, 8),\n",
    "    ('K123AsJ0k1|cloud-hpc-oss-mlops-platform|yaml', '4-2', 4, 3)\n",
    "]"
   ]
  },
  {
   "cell_type": "code",
   "execution_count": null,
   "id": "bc460879-4b0b-4c67-9761-0321c47cd0f9",
   "metadata": {},
   "outputs": [],
   "source": [
    "def round_robin_division(\n",
    "    target_list: any, \n",
    "    number: int\n",
    ") -> any:\n",
    "    lists = [[] for _ in range(number)]\n",
    "    i = 0\n",
    "    sorted_list = sorted(target_list, key = lambda x: (x[-2], x[-1]))\n",
    "    for elem in sorted_list:\n",
    "        lists[i].append(elem)\n",
    "        i = (i + 1) % number\n",
    "    return lists"
   ]
  },
  {
   "cell_type": "code",
   "execution_count": 4,
   "id": "7e12f397-89a9-4dc8-a65a-f322be8e5824",
   "metadata": {},
   "outputs": [],
   "source": [
    "import meilisearch as ms\n",
    "\n",
    "def meili_is_client(\n",
    "    storage_client: any\n",
    ") -> any:\n",
    "    try:\n",
    "        return isinstance(storage_client, ms.Connection)\n",
    "    except Exception as e:\n",
    "        print(e)\n",
    "        return False\n",
    "\n",
    "def meili_setup_client(\n",
    "    api_key: str,\n",
    "    host: str\n",
    ") -> any:\n",
    "    try:\n",
    "        meili_client = ms.Client(\n",
    "            url = host, \n",
    "            api_key = api_key\n",
    "        )\n",
    "        return meili_client \n",
    "    except Exception as e:\n",
    "        print(e)\n",
    "        return None\n",
    "\n",
    "def meili_get_index( \n",
    "    meili_client: any, \n",
    "    index_name: str\n",
    ") -> any:\n",
    "    try:\n",
    "        index = meili_client.index(\n",
    "            uid = index_name\n",
    "        )\n",
    "        return index\n",
    "    except Exception as e:\n",
    "        print(e)\n",
    "        return None\n",
    "    \n",
    "def meili_check_index(\n",
    "    meili_client: any, \n",
    "    index_name: str\n",
    ") -> bool:\n",
    "    try:\n",
    "        meili_client.get_index(\n",
    "            uid = index_name\n",
    "        )\n",
    "        return True\n",
    "    except Exception as e:\n",
    "        print(e)\n",
    "        return False\n",
    "    \n",
    "def meili_remove_index(\n",
    "    meili_client: any, \n",
    "    index_name: str\n",
    ") -> bool:\n",
    "    try:\n",
    "        response = meili_client.index(\n",
    "            index_name = index_name\n",
    "        ).delete()\n",
    "        return response\n",
    "    except Exception as e:\n",
    "        print(e)\n",
    "        return None\n",
    "    \n",
    "def meili_list_indexes(\n",
    "    meili_client: any\n",
    ") -> bool:\n",
    "    try:\n",
    "        names = []\n",
    "        indexes = meili_client.get_indexes()\n",
    "        for index in indexes['results']:\n",
    "            names.append(index.uid)\n",
    "        return names\n",
    "    except Exception as e:\n",
    "        print(e)\n",
    "        return None\n",
    "\n",
    "def meili_add_documents(\n",
    "    meili_client: any, \n",
    "    index_name: str, \n",
    "    documents: any\n",
    ") -> any:\n",
    "    try:\n",
    "        index = meili_get_index(\n",
    "            meili_client = meili_client,\n",
    "            index_name = index_name\n",
    "        )\n",
    "        response = index.add_documents(\n",
    "            documents = documents\n",
    "        )\n",
    "        return response\n",
    "    except Exception as e:\n",
    "        print(e)\n",
    "        return None\n",
    "\n",
    "def meili_set_filterable(\n",
    "    meili_client: any, \n",
    "    index_name: str, \n",
    "    attributes: any\n",
    ") -> any:\n",
    "    try:\n",
    "        index = meili_get_index(\n",
    "            meili_client = meili_client,\n",
    "            index_name = index_name\n",
    "        )\n",
    "        response = index.update_filterable_attributes(attributes)\n",
    "        return response\n",
    "    except Exception as e:\n",
    "        print(e)\n",
    "        return None\n",
    "\n",
    "def meili_search_documents(\n",
    "    meili_client: any, \n",
    "    index_name: str, \n",
    "    query: any, \n",
    "    options: any\n",
    ") -> any:\n",
    "    try:\n",
    "        index = meili_get_index(\n",
    "            meili_client = meili_client,\n",
    "            index_name = index_name\n",
    "        )\n",
    "        response = index.search(\n",
    "            query,\n",
    "            options\n",
    "        )\n",
    "        return response\n",
    "    except Exception as e:\n",
    "        print(e)\n",
    "        return None\n",
    "    \n",
    "def meili_update_documents(\n",
    "    meili_client, \n",
    "    index_name, \n",
    "    documents\n",
    ") -> any:\n",
    "    try:\n",
    "        index = meili_client.index(\n",
    "            index_name = index_name\n",
    "        )\n",
    "        response = index.update_documents(\n",
    "            documents = documents\n",
    "        )\n",
    "        return response\n",
    "    except Exception as e:\n",
    "        print(e)\n",
    "        return None\n",
    "\n",
    "def meili_delete_documents(\n",
    "    meili_client: any, \n",
    "    index_name: str, \n",
    "    ids: any\n",
    ") -> any:\n",
    "    try:\n",
    "        index = meili_client.index(\n",
    "            index_name = index_name\n",
    "        )\n",
    "        response = index.delete_documents(\n",
    "            document_ids = ids\n",
    "        )\n",
    "        return response\n",
    "    except Exception as e:\n",
    "        print(e)\n",
    "        return None"
   ]
  },
  {
   "cell_type": "code",
   "execution_count": 5,
   "id": "ab6e388f-de90-4eeb-9acb-111b8a84f5eb",
   "metadata": {},
   "outputs": [],
   "source": [
    "meili_client = meili_setup_client(\n",
    "    host = 'http://127.0.0.1:7202', \n",
    "    api_key = 'meili_key'\n",
    ")"
   ]
  },
  {
   "cell_type": "code",
   "execution_count": 6,
   "id": "1ed7139a-63dc-4cd6-89db-1fc8021fc3b5",
   "metadata": {},
   "outputs": [
    {
     "data": {
      "text/plain": [
       "TaskInfo(task_uid=24124, index_uid='K123AsJ0k1-cloud-hpc-oss-mlops-platform-ipynb-keywords', status='enqueued', type='indexDeletion', enqueued_at=datetime.datetime(2024, 11, 20, 13, 2, 31, 189034))"
      ]
     },
     "execution_count": 6,
     "metadata": {},
     "output_type": "execute_result"
    }
   ],
   "source": [
    "meili_client.index('K123AsJ0k1-cloud-hpc-oss-mlops-platform-ipynb-keywords').delete()"
   ]
  },
  {
   "cell_type": "code",
   "execution_count": 7,
   "id": "4568a990-0234-4aa3-a8f3-ad77466d4c82",
   "metadata": {},
   "outputs": [
    {
     "data": {
      "text/plain": [
       "TaskInfo(task_uid=24125, index_uid='K123AsJ0k1-cloud-hpc-oss-mlops-platform-md-keywords', status='enqueued', type='indexDeletion', enqueued_at=datetime.datetime(2024, 11, 20, 13, 2, 34, 395815))"
      ]
     },
     "execution_count": 7,
     "metadata": {},
     "output_type": "execute_result"
    }
   ],
   "source": [
    "meili_client.index('K123AsJ0k1-cloud-hpc-oss-mlops-platform-md-keywords').delete()"
   ]
  },
  {
   "cell_type": "code",
   "execution_count": 8,
   "id": "f82db57a-e823-47d3-b783-6d5f303f1e75",
   "metadata": {},
   "outputs": [
    {
     "data": {
      "text/plain": [
       "TaskInfo(task_uid=24126, index_uid='K123AsJ0k1-cloud-hpc-oss-mlops-platform-py-keywords', status='enqueued', type='indexDeletion', enqueued_at=datetime.datetime(2024, 11, 20, 13, 2, 37, 48013))"
      ]
     },
     "execution_count": 8,
     "metadata": {},
     "output_type": "execute_result"
    }
   ],
   "source": [
    "meili_client.index('K123AsJ0k1-cloud-hpc-oss-mlops-platform-py-keywords').delete()"
   ]
  },
  {
   "cell_type": "code",
   "execution_count": 9,
   "id": "e7210313-2e7d-417a-a8c1-9dd93f91dee8",
   "metadata": {},
   "outputs": [
    {
     "data": {
      "text/plain": [
       "TaskInfo(task_uid=24127, index_uid='K123AsJ0k1-cloud-hpc-oss-mlops-platform-yaml-keywords', status='enqueued', type='indexDeletion', enqueued_at=datetime.datetime(2024, 11, 20, 13, 2, 39, 737196))"
      ]
     },
     "execution_count": 9,
     "metadata": {},
     "output_type": "execute_result"
    }
   ],
   "source": [
    "meili_client.index('K123AsJ0k1-cloud-hpc-oss-mlops-platform-yaml-keywords').delete()"
   ]
  },
  {
   "cell_type": "code",
   "execution_count": null,
   "id": "8db268b4-d9d2-407b-afdd-a34b618112ec",
   "metadata": {},
   "outputs": [],
   "source": []
  }
 ],
 "metadata": {
  "kernelspec": {
   "display_name": "Python 3 (ipykernel)",
   "language": "python",
   "name": "python3"
  },
  "language_info": {
   "codemirror_mode": {
    "name": "ipython",
    "version": 3
   },
   "file_extension": ".py",
   "mimetype": "text/x-python",
   "name": "python",
   "nbconvert_exporter": "python",
   "pygments_lexer": "ipython3",
   "version": "3.10.12"
  }
 },
 "nbformat": 4,
 "nbformat_minor": 5
}
